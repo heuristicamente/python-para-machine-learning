{
 "cells": [
  {
   "cell_type": "markdown",
   "metadata": {},
   "source": [
    "# ⚙️ Cómo Instalar Python para Machine Learning y Deep Learning\n",
    "___"
   ]
  },
  {
   "cell_type": "markdown",
   "metadata": {},
   "source": [
    "En este notebook mostramos cómo **instalar Python** y las librerías de machine learning (**scikit-learn**) y deep learning (**TensorFlow**, **Keras**, **PyTorch** y **Theano**) para Python en Windows, macOS y Linux. Para ello, utilizamos la distribución de Python **Anaconda**, que también incluye los IDEs **Jupyter Notebook**, **JupyterLab** y **Spyder**, y las librerías NumPy, SciPy, Matplotlib y Pandas, entre muchas otras.\n",
    "\n",
    "Empezamos."
   ]
  },
  {
   "cell_type": "markdown",
   "metadata": {},
   "source": [
    "## Contenidos\n",
    "\n",
    " 1. Introducción: Software y Librerías Necesarias\n",
    " 2. Descargar Anaconda\n",
    " 3. Instalar Anaconda\n",
    " 4. Comprobar Instalación y Actualizar Anaconda\n",
    " 5. Actualizar la Librería de Machine Learning scikit-learn\n",
    " 6. Instalar las Librerías de Deep Learning\n",
    " 7. Comprobación Final\n",
    " 8. Siguiente Paso\n",
    " \n",
    "    Extra 1: ¿Problemas? Obteniendo Ayuda\n",
    "    \n",
    "    Extra 2. Cómo Gestionar Paquetes con Conda\n",
    "    \n",
    "    Extra 3. Anaconda Navigator"
   ]
  },
  {
   "cell_type": "markdown",
   "metadata": {},
   "source": [
    "## 1. Introducción: Software y Librerías Necesarias\n",
    "___"
   ]
  },
  {
   "cell_type": "markdown",
   "metadata": {},
   "source": [
    "Si queremos usar Python para machine learning o deep learning, necesitamos instalar lo siguiente:\n",
    "\n",
    " - **Python**: Intérprete de Python.\n",
    "\n",
    " - Librerías de SciPy:\n",
    "\n",
    "    - **NumPy**: Arrays n-dimensionales y operaciones sobre los mismos. Funciones matemáticas.\n",
    "\n",
    "    - **SciPy**. Funciones matemáticas (para integración, interpolación, optimización, álgebra lineal y estadística).\n",
    "\n",
    "    - **Matplotlib**: Visualización de datos.\n",
    "\n",
    "    - **Pandas**: Estructuras de datos y funciones para manipulación y análisis de datos.\n",
    "\n",
    "   Estas librerías son utilizadas por muchas de las librerías de machine learning y deep learning. Además, proporcionan funciones útiles para análisis de datos.\n",
    "\n",
    " - **Librería de machine learning** (muchos algoritmos distintos): **scikit-learn**.\n",
    "\n",
    "   Esta es la principal librería general de machine learning para Python.\n",
    "\n",
    " - **Librerías para deep learning** (redes neuronales):\n",
    " \n",
    "     - **TensorFlow**\n",
    "     - **Keras**\n",
    "     - **PyTorch**\n",
    "     - Theano\n",
    "\n",
    "   Sólo es necesario instalar estas librerías si vamos a utilizar redes neuronales para deep learning. Si este es nuestro caso, no es necesario instalar todas las librerías de deep learning.\n",
    "\n",
    " - **Entornos de desarrollo integrado** (IDEs): **Jupyter Notebook**, **Jupyter Lab**, Spyder, etc.\n",
    "\n",
    "Por tanto, para instalar Python y las liberías de machine learning y deep learning, primero tendríamos que instalar Python, y después tendríamos que ir instalando las diferentes librerías."
   ]
  },
  {
   "cell_type": "markdown",
   "metadata": {},
   "source": [
    "¿Cómo hacemos esto? Hay varias formas.\n",
    "\n",
    "Una forma de hacerlo muy rápidamente, y la que vamos a ver en este notebook, es utilizar **Anaconda**, que es una **distribución de Python** que ya incluye muchas de estas librerías.\n",
    "\n",
    "Anaconda es gratuita y de código abierto, y está disponible para Windows, macOS y Linux.\n",
    "\n",
    "¿Qué incluye Anaconda?\n",
    "\n",
    " - **Python** y muchas **librerías de Python preinstaladas**.\n",
    "\n",
    "   De las librerías y el software que hemos mecionado antes, en Anaconda vienen instalados por defecto: Python, NumPy, SciPy, Matplotlib, Pandas, scikit-learn, Jupyter Notebook, JupyterLab y Spyder.\n",
    "\n",
    "   Es decir, con lo que trae instalado ya tenemos todo lo que necesitamos para machine learning en Python.\n",
    "\n",
    " - **Gestor de paquetes Conda**.\n",
    "\n",
    "    - Permite instalar, actualizar y desinstalar paquetes. Un paquete puede contener software, librerías, etc.\n",
    "\n",
    "      Por defecto, los paquetes o librerías instalados con Conda se descargan del [repositorio de Anaconda](https://repo.anaconda.com/pkgs/).\n",
    "\n",
    "    - Gestiona automáticamente las dependencias entre paquetes.\n",
    "\n",
    "    - Permite gestionar entornos virtuales, cada uno de ellos con distintas versiones de software y de librerías.\n",
    "\n",
    "   Por tanto, podemos utilizar Conda para instalar las librerías de deep learning (TensorFlow, Keras, PyTorch, etc.) que necesitemos y otras librerías de Python."
   ]
  },
  {
   "cell_type": "markdown",
   "metadata": {},
   "source": [
    "## 2. Descargar Anaconda\n",
    "___"
   ]
  },
  {
   "cell_type": "markdown",
   "metadata": {},
   "source": [
    "Descargamos el instalador de Anaconda:\n",
    "\n",
    " 1. Vamos a la [página de descarga de Anaconda](https://www.anaconda.com/distribution/).\n",
    "\n",
    " 2. Pulsamos en el botón \"Download\" o bajamos por la página de descarga.\n",
    "\n",
    " 3. Seleccionamos nuestro sistema operativo: Windows, macOS o Linux.\n",
    "\n",
    " 4. Seleccionamos la última versión de Python disponible (no hace falta pulsar ningún botón). En este caso, la versión 3.7. Pero puede que actualmente nos aparezca una versión más reciente.\n",
    "\n",
    " 5. Seleccionamos el instalador:\n",
    "\n",
    "     - Windows: Seleccionamos el instalador gráfico. Pulsamos sobre \"64-Bit Graphical Installer\".\n",
    "\n",
    "     - macOS: Seleccionamos el instalador gráfico \"64-Bit Graphical Installer\". Si lo queremos instalar ejecutando un script en la línea de comandos, podemos seleccionar el instalador \"64-Bit Command Line Installer\".\n",
    "\n",
    "     - Linux: Actualmente, Anaconda no tiene instalador gráfico para Linux, así que seleccionamos \"64-Bit (x86) Installer\". Este instalador es un script que ejecutaremos en la terminal o línea de comandos.\n",
    "\n",
    " 6. Tras seleccionar el instalador, empezará a descargarse:\n",
    "\n",
    "     - Windows: Un fichero `.exe` (instalador gráfico).\n",
    "\n",
    "     - MacOS: Un fichero `.pkg` (instaldor gráfico) o `.sh` (script).\n",
    "\n",
    "     - Linux: Un fichero `.sh` (script)."
   ]
  },
  {
   "cell_type": "markdown",
   "metadata": {},
   "source": [
    "## 3. Instalar Anaconda\n",
    "___"
   ]
  },
  {
   "cell_type": "markdown",
   "metadata": {},
   "source": [
    "Ya tenemos el instalador de Anaconda descargado.\n",
    "\n",
    "Antes de instalar Anaconda, unas aclaraciones:\n",
    "\n",
    " - Por defecto, la instalación de Anaconda se realiza localmente para el usuario concreto que estamos utilizando en nuestro sistema operativo, por lo que no se necesitan permisos de administrador para instalar Anaconda. Si necesitas instalar Anaconda en todo el sistema (para todos los usuarios), sí se necesitan permisos de administrador.\n",
    "\n",
    " - Si ya tenemos una versión de Python instalada en nuestro sistema operativo, podemos instalar Anaconda sin problemas. No necesitamos desinstalar otras versiones ni paquetes de Python antes de instalar Anaconda."
   ]
  },
  {
   "cell_type": "markdown",
   "metadata": {},
   "source": [
    "### 3.1. Instalador Gráfico (Windows y macOS)"
   ]
  },
  {
   "cell_type": "markdown",
   "metadata": {},
   "source": [
    " 1. Hacemos doble click sobre el fichero del instalador:\n",
    "\n",
    "     - Windows: Fichero `.exe`.\n",
    "\n",
    "     - MacOS: Fichero `.pkg`.\n",
    "\n",
    " 2. Seguimos las instrucciones del asistente de instalación.\n",
    "\n",
    "    En algún momento de la instalación se nos van a presentar las siguientes opciones (no tienen por qué presentarse en este mismo orden):\n",
    "\n",
    "     - En Windows, seleccionamos la opción para instalar Anaconda localmente para nuestro usuario (\"*Just Me*\").\n",
    "\n",
    "     - Aceptamos la ruta por defecto donde se instala Anaconda:\n",
    "\n",
    "        - MacOS: `/Users/<tu-usuario>/opt/Anaconda3/`.\n",
    "\n",
    "        - Windows: `C:\\Users\\<tu-usuario>\\Anaconda3\\`.\n",
    "\n",
    "          Importante: En Windows, si nuestro nombre de usuario (`<tu-usuario>`) contiene espacios, tildes o la letra \"ñ\", seleccionamos otro lugar (cuya ruta no contenga estos caracteres) para instalar Anaconda.\n",
    "\n",
    "     - Casilla para añadir Anaconda al PATH (\"*Add Anaconda to my PATH environment variable*\"):\n",
    "\n",
    "        - Windows: No marcamos la casilla. Si Añadimos Anaconda al PATH en Windows, puede interferir con otro software. Incluso si queremos utilizar Python desde la línea de comandos, no añadimos Anaconda al PATH.\n",
    "\n",
    "        - MacOS: Sí marcamos la casilla. Si no te aparece la casilla, no te preocupes, se marca sola.\n",
    "\n",
    "     - En Windows, marcamos la casilla \"*Register Anaconda as my default Python 3.7*\" (ya viene marcada por defecto).\n",
    "\n",
    "       Esto establece Anaconda Python como la instalación de Python que se usa por defecto.\n",
    "\n",
    "    El resto de configuraciones las dejamos como vienen por defecto."
   ]
  },
  {
   "cell_type": "markdown",
   "metadata": {},
   "source": [
    "### 3.2. Instalador por Línea de Comandos (MacOS y Linux)"
   ]
  },
  {
   "cell_type": "markdown",
   "metadata": {},
   "source": [
    " 1. Abrimos un terminal.\n",
    "\n",
    " 2. Ejecutamos el script de instalación. Si nos encontramos en el directorio donde se encuentra el instalador, ejecutamos:\n",
    "\n",
    "    `bash ./<Anaconda-script>.sh`\n",
    "\n",
    "    Sustituimos `<Anaconda-script>` por el nombre del script del instalador de Anaconda.\n",
    "\n",
    "    Nota: No hace falta ejecutar el script con permisos de administrador, es decir, no usamos `sudo` para ejecutar el script.\n",
    "\n",
    " 3. El instalador muestra \"*In order to continue the installation process, please review the license agreement*\" (\"Para continuar el proceso de instalación, por favor revise el acuerdo de la licencia\"). Pulsamos `Enter`.\n",
    "\n",
    " 4. El instalador muestra el texto de la licencia. Bajamos hasta el final del texto, escribimos \"*yes*\" y pulsamos `Enter`.\n",
    "\n",
    " 5. Pulsamos `Enter` para aceptar la ruta de instalación por defecto:\n",
    "\n",
    "     - MacOS: `/Users/<tu-usuario>/anaconda3`.\n",
    "\n",
    "     - Linux: `/home/<tu-usuario>/anaconda3`.\n",
    "\n",
    "\n",
    " 6. El instalador nos pregunta si queremos que inicialice Anaconda (\"*Do you wish the installer to initialize Anaconda by running conda init?*\"). Escribimos \"*yes*\" y pulsamos `Enter`.\n",
    "\n",
    "    De esta forma, el instalador añade Anaconda al PATH.\n",
    "\n",
    " 7. Termina la instalación.\n",
    "\n",
    " 8. Cerramos y volvemos a abrir el terminal para que la instalación de Anaconda tenga efecto."
   ]
  },
  {
   "cell_type": "markdown",
   "metadata": {},
   "source": [
    "## 4. Comprobar Instalación y Actualizar Anaconda\n",
    "___"
   ]
  },
  {
   "cell_type": "markdown",
   "metadata": {},
   "source": [
    "Una vez hemos realizado la instalación:\n",
    "\n",
    " - En macOS y Linux, abrimos un terminal.\n",
    "\n",
    " - En Windows, abrimos Anaconda Prompt.\n",
    "\n",
    "   ![fig-anaconda-navigator-2](images/Anaconda_Prompt_Start_Menu.png)\n",
    "\n",
    "   Si no aparece el icono de Anaconda Prompt, reiniciamos Windows.\n",
    "\n",
    "   Nota: En Windows no utilizamos el terminal de Windows, sino Anaconda Prompt. Anaconda Prompt se utiliza igual que un terminal.\n",
    "\n",
    "Todos los comandos que se muestran a partir de ahora tenemos que ejecutarlos en la terminal (en macOS y Linux) o en Anaconda Prompt (en Windows), y son exactamente los mismos comandos para Windows, macOS y Linux."
   ]
  },
  {
   "cell_type": "markdown",
   "metadata": {},
   "source": [
    "### 4.1. Comprobar la Instalación de Anaconda"
   ]
  },
  {
   "cell_type": "markdown",
   "metadata": {},
   "source": [
    " 1. Comprobamos que el gestor de paquetes Conda está instalado, ejecutando:\n",
    "\n",
    "    `conda -V`\n",
    "\n",
    "    Si está instalado, se muestra el número de la versión instalada:\n",
    "    ________________________________________________________\n",
    "    conda 4.7.12\n",
    "    ________________________________________________________\n",
    "\n",
    "    Nota: Si se muestra un mensaje de error en macOS o Linux, asegúrate de haber cerrado y vuelto a abrir la terminal después de instalar Anaconda.\n",
    "\n",
    " 2. Comprobamos que Python se ha instalado correctamente, ejecutando:\n",
    "\n",
    "    `python -V`\n",
    "\n",
    "    Esto muestra la versión de Python que tenemos instalada:\n",
    "    ________________________________________________________\n",
    "    Python 3.7.5\n",
    "    ________________________________________________________\n",
    "\n",
    " 3. Por defecto, en el prompt del terminal (macOS y Linux) y de Anaconda Prompt (Windows) aparece la palabra \"*(base)*\" después de instalar Anaconda. Si queremos que no aparezca, podemos ejecutar:\n",
    "\n",
    "    `conda config --set changeps1 False`\n",
    "    \n",
    "    Y cerramos y volvemos a abrir el terminal o Anaconda Prompt."
   ]
  },
  {
   "cell_type": "markdown",
   "metadata": {},
   "source": [
    "### 4.2. Actualizar Conda y Anaconda"
   ]
  },
  {
   "cell_type": "markdown",
   "metadata": {},
   "source": [
    " 1. Actualizamos el gestor de paquetes Conda:\n",
    "\n",
    "    `conda update conda`\n",
    "\n",
    "    Si hay una nueva versión de Conda disponible, se nos pregunta si queremos instalarla:\n",
    "    ________________________________________________________\n",
    "    Proceed ([y]/n)?\n",
    "    ________________________________________________________\n",
    "\n",
    "    Para instalar las actualizaciones, escribimos \"*y*\" y pulsamos `Enter`.\n",
    "\n",
    "    Si no hay actualizaciones disponibles, no nos piden que instalemos nada.\n",
    "\n",
    " 2. Actualizamos todos los paquetes a la última versión de Anaconda:\n",
    "\n",
    "    `conda update anaconda`"
   ]
  },
  {
   "cell_type": "markdown",
   "metadata": {},
   "source": [
    "### 4.3. Comprobar que las Librerías SciPy, NumPy, Matplotlib y Pandas están Instaladas"
   ]
  },
  {
   "cell_type": "markdown",
   "metadata": {},
   "source": [
    " 1. Abrimos un editor de textos y creamos el siguiente fichero (podemos copiar y pegar el texto):"
   ]
  },
  {
   "cell_type": "code",
   "execution_count": null,
   "metadata": {},
   "outputs": [],
   "source": [
    "# SciPy\n",
    "import scipy\n",
    "print('scipy: %s' % scipy.__version__)\n",
    "# NumPy\n",
    "import numpy\n",
    "print('numpy: %s' % numpy.__version__)\n",
    "# Matplotlib\n",
    "import matplotlib\n",
    "print('matplotlib: %s' % matplotlib.__version__)\n",
    "# Pandas\n",
    "import pandas\n",
    "print('pandas: %s' % pandas.__version__)"
   ]
  },
  {
   "cell_type": "markdown",
   "metadata": {},
   "source": [
    "    Guardamos el fichero anterior con el nombre \"versiones_scipy.py\". Esto es un script o programa en Python que imprime por pantalla las versiones instaladas de las librerías SciPy, NumPy, Matplotlib y Pandas.\n",
    "\n",
    " 2. Desde el terminal (macOS y Linux) o Anaconda Prompt (Windows), navegamos hacia el directorio en el que hemos guardado el fichero anterior.\n",
    "\n",
    " 3. Ejecutamos el script de Python mediante:\n",
    "\n",
    "    `python versiones_scipy.py`\n",
    "\n",
    "    Esto muestra las versiones instaladas de SciPy, NumPy, Matplotlib y Pandas:\n",
    "    ________________________________________________________\n",
    "    scipy: 1.3.1\n",
    "    \n",
    "    numpy: 1.17.3\n",
    "    \n",
    "    matplotlib: 3.1.1\n",
    "    \n",
    "    pandas: 0.25.2\n",
    "    ________________________________________________________\n",
    "\n",
    "    Nota: Puede que nos aparezcan números de versión más recientes que estos, ya que las librerías se actualizan frecuentemente."
   ]
  },
  {
   "cell_type": "markdown",
   "metadata": {},
   "source": [
    "## 5. Actualizar la Librería de Machine Learning scikit-learn\n",
    "___"
   ]
  },
  {
   "cell_type": "markdown",
   "metadata": {},
   "source": [
    "La librería scikit-learn ya viene instalada con Anaconda. La actualizamos y comprobamos la versión instalada:\n",
    "\n",
    " 1. Actualizamos la librería scikit-learn:\n",
    "\n",
    "    `conda update scikit-learn`\n",
    "\n",
    " 2. Abrimos un editor de textos y creamos el siguiente fichero (podemos copiar y pegar el texto):"
   ]
  },
  {
   "cell_type": "code",
   "execution_count": null,
   "metadata": {},
   "outputs": [],
   "source": [
    "import sklearn\n",
    "print('scikit-learn: %s' % sklearn.__version__)"
   ]
  },
  {
   "cell_type": "markdown",
   "metadata": {},
   "source": [
    "    Guardamos el fichero anterior con el nombre \"version_scikit-learn.py\".\n",
    "\n",
    " 3. Desde el terminal (macOS y Linux) o Anaconda Prompt (Windows), navegamos hacia el directorio en el que hemos guardado el fichero anterior.\n",
    "\n",
    " 4. Ejecutamos el script de Python mediante:\n",
    "\n",
    "    `python version_scikit-learn.py`\n",
    "\n",
    "    Esto muestra la versión instalada de la librería scikit-learn:\n",
    "    ________________________________________________________\n",
    "    scikit-learn: 0.21.3\n",
    "    ________________________________________________________\n",
    "\n",
    "    Nota: Puede que nos aparezca un número de versión más reciente que este, ya que la librería se actualiza frecuentemente.\n",
    "\n",
    "Hasta aquí, con NumPy, SciPy, Matplotlib, Pandas y scikit-learn, tenemos todo lo necesario para empezar a practicar machine learning con Python. Si además queremos utilizar las principales librerías de deep learning para Python, en la siguiente sección mostramos cómo instalarlas."
   ]
  },
  {
   "cell_type": "markdown",
   "metadata": {},
   "source": [
    "## 6. Instalar las Librerías de Deep Learning\n",
    "___"
   ]
  },
  {
   "cell_type": "markdown",
   "metadata": {},
   "source": [
    "Principales librerías de deep learning para Python:\n",
    "\n",
    " - **TensorFlow**\n",
    "\n",
    " - **Keras**: API de alto nivel para redes neuronales. Por debajo utiliza TensorFlow.\n",
    "\n",
    " - **PyTorch**\n",
    "\n",
    "Otras librerías disponibles que ya no reciben mantenimiento:\n",
    "\n",
    " - **Theano**\n",
    "\n",
    "Hay más librerías. Aquí mostramos cómo instalar las principales. No es necesario instalarlas todas. Sólo las que vayamos a utilizar."
   ]
  },
  {
   "cell_type": "markdown",
   "metadata": {},
   "source": [
    "### 6.1. Instalar TensorFlow"
   ]
  },
  {
   "cell_type": "markdown",
   "metadata": {},
   "source": [
    " 1. Instalamos TensorFlow:\n",
    "\n",
    "   `conda install tensorflow`\n",
    "\n",
    "   O si queremos ejecutar TensorFlow en GPUs:\n",
    "\n",
    "   `conda install tensorflow-gpu`\n",
    "\n",
    " 2. Confirmamos que TensorFlow se ha instalado correctamente.\n",
    "\n",
    "    Abrimos un editor de textos y creamos el siguiente fichero (podemos copiar y pegar el texto):"
   ]
  },
  {
   "cell_type": "code",
   "execution_count": null,
   "metadata": {},
   "outputs": [],
   "source": [
    "import tensorflow\n",
    "print('tensorflow: %s' % tensorflow.__version__)"
   ]
  },
  {
   "cell_type": "markdown",
   "metadata": {},
   "source": [
    "    Guardamos el fichero anterior con el nombre \"version_tensorflow.py\".\n",
    "\n",
    " 3. Desde el terminal (macOS y Linux) o Anaconda Prompt (Windows), navegamos hacia el directorio en el que hemos guardado el fichero anterior.\n",
    "\n",
    " 4. Ejecutamos el script de Python mediante:\n",
    "\n",
    "    `python version_tensorflow.py`\n",
    "\n",
    "    Esto muestra la versión instalada de la librería TensorFlow:\n",
    "    ________________________________________________________\n",
    "    tensorflow: 2.0.0\n",
    "    ________________________________________________________\n",
    "\n",
    "    Nota: Puede que nos aparezca un número de versión más reciente que este."
   ]
  },
  {
   "cell_type": "markdown",
   "metadata": {},
   "source": [
    "### 6.2. Instalar Keras"
   ]
  },
  {
   "cell_type": "markdown",
   "metadata": {},
   "source": [
    "Aclaraciones sobre Keras:\n",
    "\n",
    " - **Keras multi-backend**:\n",
    "\n",
    "    - Anteriormente, Keras se podía utilizar sobre distintas librerías o backends (TensorFlow, Theano o CNTK). Actualmente, todavía se puede utilizar con cualquiera de estas librerías, pero Keras para múltiples backends o librerías no va a recibir mantenimiento en el futuro.\n",
    "\n",
    "    - [Keras 2.3.0](https://github.com/keras-team/keras/releases/tag/2.3.0) es la última versión de Keras multi-backend, es decir, es la última versión de Keras que soporta TensorFlow, Theano y CNTK.\n",
    "\n",
    "    - Keras multi-backend ha sido reemplazado por **tf.keras** (incluido dentro de TensorFlow).\n",
    "\n",
    "      Los bugs presentes en Keras multi-backend sólo se solucionarán hasta abril de 2020. A partir de entonces, el equipo de Keras no realizará mantenimiento de Keras multi-backend, y el desarrollo se centrará únicamente en **tf.keras**.\n",
    "\n",
    "      Por tanto, el equipo de desarrollo de Keras recomienda a los usuarios de Keras multi-backend pasar a utilizar **tf.keras**.\n",
    "\n",
    "    - Keras en PyPI pasará a ser **tf.keras**.\n",
    "\n",
    " - [**tf.keras**](https://www.tensorflow.org/guide/keras):\n",
    "\n",
    "    - Keras (**tf.keras**) es parte de la librería TensorFlow a partir de TensorFlow 2.0.\n",
    "\n",
    "    - **tf.keras** es donde se centra el desarrollo de Keras actualmente.\n",
    "\n",
    "    - **tf.keras** implementa la misma API que Keras 2.3.0. Además, también incluye funcionalidad adicional para TensorFlow.\n",
    "\n",
    "Por tanto, recomendamos usar Keras desde dentro de la librería TensorFlow. Para ello:\n",
    "\n",
    " 1. Instalamos TensorFlow.\n",
    "\n",
    "    Para esto, seguimos las instrucciones de la sección anterior para instalar TensorFlow.\n",
    "\n",
    " 2. Comprobamos que tenemos al menos TensorFlow 2.0 y comprobamos la versión de Keras:\n",
    "\n",
    "    Abrimos un editor de textos y creamos el siguiente fichero (podemos copiar y pegar el texto):"
   ]
  },
  {
   "cell_type": "code",
   "execution_count": null,
   "metadata": {},
   "outputs": [],
   "source": [
    "# TensorFlow\n",
    "import tensorflow\n",
    "print('tensorflow: %s' % tensorflow.__version__)\n",
    "# Keras\n",
    "print('keras: %s' % tensorflow.keras.__version__)"
   ]
  },
  {
   "cell_type": "markdown",
   "metadata": {},
   "source": [
    "    Guardamos el fichero anterior con el nombre \"version_keras.py\".\n",
    "\n",
    " 3. Desde el terminal (macOS y Linux) o Anaconda Prompt (Windows), navegamos hacia el directorio en el que hemos guardado el fichero anterior.\n",
    "\n",
    " 4. Ejecutamos el script de Python mediante:\n",
    "\n",
    "    `python version_keras.py`\n",
    "\n",
    "    Esto muestra la versión instalada de la librería Keras:\n",
    "    ________________________________________________________\n",
    "    tensorflow: 2.0.0\n",
    "    \n",
    "    keras: 2.2.4-tf\n",
    "    ________________________________________________________\n",
    "\n",
    "    Nota: Puede que nos aparezcan números de versión más recientes que estos.\n",
    "\n",
    "    Si tenemos una versión de TensorFlow anterior a 2.0, lo actualizamos:\n",
    "\n",
    "    `conda update tensorflow`\n",
    "\n",
    "    Nota: No tenemos que instalar Keras de forma independiente, ya que está incluido dentro de TensorFlow.\n",
    "\n",
    " 5. Para utilizar Keras dentro de un script en Python, importamos TensorFlow:"
   ]
  },
  {
   "cell_type": "code",
   "execution_count": 8,
   "metadata": {},
   "outputs": [],
   "source": [
    "import tensorflow as tf"
   ]
  },
  {
   "cell_type": "markdown",
   "metadata": {},
   "source": [
    "    Y ya podemos utilizar Keras. Ejemplo:"
   ]
  },
  {
   "cell_type": "code",
   "execution_count": 10,
   "metadata": {},
   "outputs": [],
   "source": [
    "Dense = tf.keras.layers.Dense"
   ]
  },
  {
   "cell_type": "markdown",
   "metadata": {},
   "source": [
    "### 6.3. Instalar PyTorch"
   ]
  },
  {
   "cell_type": "markdown",
   "metadata": {},
   "source": [
    " 1. [Instalamos PyTorch](https://pytorch.org/get-started/locally/):\n",
    "\n",
    "    Si nuestro sistema no tiene una GPU o no necesitamos ejectuar PyTorch en GPUs:\n",
    "\n",
    "    `conda install pytorch torchvision cpuonly -c pytorch`\n",
    "\n",
    "    Si queremos ejecutar PyTorch en GPUs, ejecutamos el comando que se corresponda con la versión de CUDA de nuestro sistema:\n",
    "\n",
    "     - CUDA 10.1:\n",
    "\n",
    "       `conda install pytorch torchvision cudatoolkit=10.1 -c pytorch`\n",
    "\n",
    "     - CUDA 9.2:\n",
    "\n",
    "       `conda install pytorch torchvision cudatoolkit=9.2 -c pytorch`\n",
    "\n",
    " 2. Confirmamos que PyTorch se ha instalado correctamente.\n",
    "\n",
    "    Abrimos un editor de textos y creamos el siguiente fichero (podemos copiar y pegar el texto):"
   ]
  },
  {
   "cell_type": "code",
   "execution_count": null,
   "metadata": {},
   "outputs": [],
   "source": [
    "import torch\n",
    "print('PyTorch: %s' % torch.__version__)\n",
    "print('¿PyTorch con CUDA? %s' % (\"Sí\" if torch.cuda.is_available() else \"No\"))"
   ]
  },
  {
   "cell_type": "markdown",
   "metadata": {},
   "source": [
    "    Guardamos el fichero anterior con el nombre \"version_pytorch.py\".\n",
    "\n",
    " 3. Desde el terminal (macOS y Linux) o Anaconda Prompt (Windows), navegamos hacia el directorio en el que hemos guardado el fichero anterior.\n",
    "\n",
    " 4. Ejecutamos el script de Python mediante:\n",
    "\n",
    "    `python version_pytorch.py`\n",
    "\n",
    "    Esto muestra la versión instalada de la librería PyTorch, y si lo hemos instalado con soporte para GPUs o no:\n",
    "    ________________________________________________________\n",
    "    pytorch: 1.3.1\n",
    "    \n",
    "    ¿pytorch con CUDA? No\n",
    "    ________________________________________________________\n",
    "\n",
    "    Nota: Puede que nos aparezca un número de versión más reciente que este."
   ]
  },
  {
   "cell_type": "markdown",
   "metadata": {},
   "source": [
    "### 6.4. Instalar Theano"
   ]
  },
  {
   "cell_type": "markdown",
   "metadata": {},
   "source": [
    "Nota: Theano es una librería de código abierto y sigue estando disponible, pero no recibe mantenimiento ni soporte a partir de la versión 1.0 (lanzada en noviembre de 2017). Simplemente dejamos las instrucciones para instalarlo por si alguien quiere probarlo.\n",
    "\n",
    " 1. Instalamos Theano:\n",
    "\n",
    "   `conda install theano`\n",
    "\n",
    " 2. Confirmamos que Theano se ha instalado correctamente.\n",
    "\n",
    "    Abrimos un editor de textos y creamos el siguiente fichero (podemos copiar y pegar el texto):"
   ]
  },
  {
   "cell_type": "code",
   "execution_count": null,
   "metadata": {},
   "outputs": [],
   "source": [
    "import theano\n",
    "print('theano: %s' % theano.__version__)"
   ]
  },
  {
   "cell_type": "markdown",
   "metadata": {},
   "source": [
    "    Guardamos el fichero anterior con el nombre \"version_theano.py\".\n",
    "\n",
    " 3. Desde el terminal (macOS y Linux) o Anaconda Prompt (Windows), navegamos hacia el directorio en el que hemos guardado el fichero anterior.\n",
    "\n",
    " 4. Ejecutamos el script de Python mediante:\n",
    "\n",
    "    `python version_theano.py`\n",
    "\n",
    "    Esto muestra la versión instalada de la librería Theano:\n",
    "    ________________________________________________________\n",
    "    theano: 1.0.4\n",
    "    ________________________________________________________"
   ]
  },
  {
   "cell_type": "markdown",
   "metadata": {},
   "source": [
    "## 7. Comprobación Final\n",
    "___"
   ]
  },
  {
   "cell_type": "markdown",
   "metadata": {},
   "source": [
    "Podemos comprobar que todas las librerías se han instalado correctamente con un único script (mostramos el código abajo).\n",
    "\n",
    "Para ello, creamos un script que muestre las versiones de las librerías que hayamos instalado. Si no hemos instalado alguna librería, simplemente eliminamos las líneas correspondientes a esa librería. Guardamos el script con el nombre \"versiones.py\" y lo ejecutamos mediante `python versiones.py`."
   ]
  },
  {
   "cell_type": "code",
   "execution_count": 13,
   "metadata": {},
   "outputs": [
    {
     "name": "stdout",
     "output_type": "stream",
     "text": [
      "python: 3.7.5\n",
      "scipy: 1.3.1\n",
      "numpy: 1.17.3\n",
      "matplotlib: 3.1.1\n",
      "pandas: 0.25.2\n",
      "sklearn: 0.21.3\n",
      "tensorflow: 2.0.0\n",
      "keras: 2.2.4-tf\n",
      "pytorch: 1.3.1\n",
      "¿pytorch con CUDA? No\n",
      "theano: 1.0.4\n"
     ]
    }
   ],
   "source": [
    "# Python\n",
    "import platform\n",
    "print('python: %s' % platform.python_version())\n",
    "# SciPy\n",
    "import scipy\n",
    "print('scipy: %s' % scipy.__version__)\n",
    "# NumPy\n",
    "import numpy\n",
    "print('numpy: %s' % numpy.__version__)\n",
    "# Matplotlib\n",
    "import matplotlib\n",
    "print('matplotlib: %s' % matplotlib.__version__)\n",
    "# Pandas\n",
    "import pandas\n",
    "print('pandas: %s' % pandas.__version__)\n",
    "# scikit-learn\n",
    "import sklearn\n",
    "print('sklearn: %s' % sklearn.__version__)\n",
    "# TensorFlow\n",
    "import tensorflow\n",
    "print('tensorflow: %s' % tensorflow.__version__)\n",
    "# Keras\n",
    "print('keras: %s' % tensorflow.keras.__version__)\n",
    "# PyTorch\n",
    "import torch\n",
    "print('pytorch: %s' % torch.__version__)\n",
    "print('¿pytorch con CUDA? %s' % (\"Sí\" if torch.cuda.is_available() else \"No\"))\n",
    "# Theano\n",
    "import theano\n",
    "print('theano: %s' % theano.__version__)"
   ]
  },
  {
   "cell_type": "markdown",
   "metadata": {},
   "source": [
    "¿Qué versiones te aparecen a ti? Comparte la salida del script en los comentarios del [vídeo](https://youtu.be/kymjQ6e4jsQ)."
   ]
  },
  {
   "cell_type": "markdown",
   "metadata": {},
   "source": [
    "## 8. Siguiente Paso\n",
    "___"
   ]
  },
  {
   "cell_type": "markdown",
   "metadata": {},
   "source": [
    "En este punto, ya hemos instalado Python y las liberías de machine learning y deep learning para Python. Ahora ya podemos crear programas que utilicen estas librerías y ejecutarlos en nuestra máquina.\n",
    "\n",
    "Es posible que alguna parte del proceso de instalación cambie en el futuro, o que surjan nuevas librerías para machine learning y deep learning con Python. En este notebook iremos añadiendo todas las actualizaciones que haya.\n",
    "\n",
    "Si tienes alguna duda o comentario, puedes dejárnoslo en los comentarios del [vídeo](https://youtu.be/kymjQ6e4jsQ) en el que explicamos este notebook.\n",
    "\n",
    "Para más vídeos sobre este tema, puedes visitar nuestro [canal de YouTube](https://www.youtube.com/channel/UCAUedO0e4eNjycH4_hU4-1g).\n",
    "\n",
    "¡Esperamos que os sea de ayuda!"
   ]
  },
  {
   "cell_type": "markdown",
   "metadata": {},
   "source": [
    "## Extra 1: ¿Problemas? Obteniendo Ayuda\n",
    "___"
   ]
  },
  {
   "cell_type": "markdown",
   "metadata": {},
   "source": [
    "Si tenemos algún problema o error durante alguna parte de la instalación, podemos consultar la documentación oficial del software o librería concreta:\n",
    "\n",
    " - [Documentación de Anaconda](https://docs.anaconda.com/anaconda/). También tienen una sección de problemas frecuentes y solución de problemas:\n",
    "\n",
    "    - [Solución de problemas en Anaconda](https://docs.anaconda.com/anaconda/user-guide/troubleshooting/)\n",
    "\n",
    "\n",
    " - [Foro de Anaconda](https://groups.google.com/a/continuum.io/forum/#!forum/anaconda), donde se pueden hacer preguntas sobre problemas, errores, etc.\n",
    "\n",
    " - [Anaconda en Stack Overflow](https://stackoverflow.com/tags/anaconda/)\n",
    "\n",
    " - [Documentación del gestor de paquetes Conda](https://docs.conda.io/projects/conda/en/latest/). De aquí, son útiles:\n",
    "\n",
    "    - [Guía de usuario de Conda](https://docs.conda.io/projects/conda/en/latest/user-guide/index.html)\n",
    "\n",
    "    - [Solución de problemas en Conda](https://docs.conda.io/projects/conda/en/latest/user-guide/troubleshooting.html)\n",
    "\n",
    "    - [Lista de comandos de Conda](https://docs.conda.io/projects/conda/en/latest/commands.html)\n",
    "\n",
    " - [Conda en Stack Overflow](https://stackoverflow.com/tags/conda/)\n",
    "\n",
    " - [Instalar TensorFlow con Conda](https://www.anaconda.com/tensorflow-in-anaconda/)\n",
    "\n",
    " - [Instalar PyTorch con Conda](https://pytorch.org/get-started/locally/)"
   ]
  },
  {
   "cell_type": "markdown",
   "metadata": {},
   "source": [
    "## Extra 2. Cómo Gestionar Paquetes con Conda\n",
    "___"
   ]
  },
  {
   "cell_type": "markdown",
   "metadata": {},
   "source": [
    "En Anaconda, el software y las librerías se distribuyen mediante paquetes. En esta sección, resumimos cómo gestionar paquetes con Conda. En cada ejemplo, tenemos que sustitutir `NOMBRE_PAQUETE` por el nombre del paquete que queramos, por ejemplo, `tensorflow`.\n",
    "\n",
    "### Buscar Paquetes (`conda search`)\n",
    "\n",
    " - Buscar un paquete (por defecto, se busca en el [repositorio de Anaconda](https://repo.anaconda.com/pkgs/)):\n",
    "\n",
    "   `conda search NOMBRE_PAQUETE`\n",
    "\n",
    "   Se muestra una lista con todos los paquetes que tengan ese nombre en el repositorio de Anaconda. Esto es útil para comprobar si el paquete está disponible para instalarlo.\n",
    "\n",
    "### Comprobar Paquetes Instalados (`conda list`)\n",
    "\n",
    " - Listar todos los paquetes instalados localmente en nuestro sistema (junto con su número de versión):\n",
    "\n",
    "   `conda list`\n",
    "\n",
    " - Comprobar si un paquete concreto está instalado:\n",
    "\n",
    "   `conda list NOMBRE_PAQUETE`\n",
    "\n",
    "### Instalar Paquetes (`conda install`)\n",
    "\n",
    " - Instalar un paquete:\n",
    "\n",
    "   `conda install NOMBRE_PAQUETE`\n",
    "\n",
    " - Instalar varios paquetes a la vez (simplemente los separamos por espacios):\n",
    "\n",
    "   `conda install NOMBRE_PAQUETE1 NOMBRE_PAQUETE2 NOMBRE_PAQUETE3`\n",
    "\n",
    "   Nota: Es mejor instalar todos los paquetes a la vez (en un único comando), para que todas las dependencias se gestionen al mismo tiempo.\n",
    "\n",
    " - Instalar una versión específica de un paquete:\n",
    "\n",
    "   `conda install NOMBRE_PAQUETE=VERSION`\n",
    "\n",
    "   Donde `VERSION` es el número de versión concreto del paquete que queremos instalar. Por ejemplo:\n",
    "\n",
    "   `conda install scipy=0.15.0`\n",
    "\n",
    "### Actualizar Paquetes (`conda update`)\n",
    "\n",
    " - Actualizar un paquete:\n",
    "\n",
    "   `conda update NOMBRE_PAQUETE`\n",
    "\n",
    "   Si hay una actualización disponible, podemos decidir si instalarla o no.\n",
    "\n",
    " - Actualizar Python (Conda gestiona Python como cualquier otro paquete):\n",
    "\n",
    "   `conda update python`\n",
    "\n",
    "   Si la versión de Python instalada actualmente es la 3.7.4, el comando `conda update python` actualiza Python a la última versión dentro de la rama 3.7. Si queremos actualizar Python a otra rama, por ejemplo, la 3.8, tenemos que indicarlo explícitamente:\n",
    "\n",
    "   `conda install python=3.8`\n",
    "\n",
    "   Para ver una lista de las versiones de Python disponibles:\n",
    "\n",
    "   `conda search python`\n",
    "\n",
    " - Actualizar el gestor de paquetes Conda:\n",
    "\n",
    "   `conda update conda`\n",
    "\n",
    " - Actualizar todos los paquetes a la última versión de Anaconda:\n",
    "\n",
    "   `conda update anaconda`\n",
    "\n",
    "   Nota: Esto instala versiones estables y compatibles entre sí, no necesariamente las últimas versiones de cada paquete.\n",
    "\n",
    "### Eliminar Paquetes (`conda remove`)\n",
    "\n",
    " - Eliminar un paquete:\n",
    "\n",
    "   `conda remove NOMBRE_PAQUETE`\n",
    "\n",
    "### Mostrar Inforamación sobre la Instalación Actual (`conda info`)\n",
    "\n",
    " - Mostrar información sobre la instalación actual de Anaconda:\n",
    "\n",
    "   `conda info`\n",
    "\n",
    "   Para información más detallada:\n",
    "\n",
    "   `conda info -a`"
   ]
  },
  {
   "cell_type": "markdown",
   "metadata": {},
   "source": [
    "## Extra 3. Anaconda Navigator\n",
    "___"
   ]
  },
  {
   "cell_type": "markdown",
   "metadata": {},
   "source": [
    "Anaconda Navigator:\n",
    "\n",
    " - Es una interfaz gráfica de usuario para escritorio que viene instalada automáticamente con Anaconda.\n",
    "\n",
    " - Permite gestionar paquetes de Conda y ejecutar aplicaciones (como Jupyter Notebook, JupyterLab o Spyder) sin utilizar la línea de comandos.\n",
    "\n",
    "Para ejectuar Anaconda Navigator:\n",
    "\n",
    " - Windows: En el menú de inicio (abajo a la izquierda), buscamos \"anaconda navigator\", y hacemos click sobre el icono Anaconda Navigator.\n",
    "\n",
    "   ![fig-anaconda-navigator-2](images/Anaconda_Navigator_Start_Menu.png)\n",
    "\n",
    " - MacOS: Dependiendo del tipo de instalación que hayamos realizado:\n",
    " \n",
    "    - Si hemos utilizado el instalador gráfico: En Launchpad, seleccionamos Anaconda Navigator.\n",
    "\n",
    "    - Si hemos utilizado el instalador por línea de comandos, ejecutamos `anaconda-navigator` desde el terminal.\n",
    "\n",
    " - Linux: Abrimos un terminal y ejecutamos:\n",
    "\n",
    "   `anaconda-navigator`\n",
    "\n",
    "Y se abrirá Anaconda Navigator."
   ]
  },
  {
   "cell_type": "markdown",
   "metadata": {},
   "source": [
    "![fig-anaconda-navigator-1](images/Anaconda_Navigator_1.png)"
   ]
  },
  {
   "cell_type": "markdown",
   "metadata": {},
   "source": [
    "Para ejecutar aplicaciones (por ejemplo, JupyterLab), hacemos click sobre el botón `Launch` que aparece debajo de la aplicación que queramos ejecutar.\n",
    "\n",
    "Si pulsamos sobre la pestaña \"Environments\" (en el menú lateral de la izquierda), podemos ver los paquetes que tenemos instalados, los paquetes disponibles que no tenemos instalados, los paquetes instalados para los que hay una actualización disponible, etc. Podemos instalarlos o desinstalarlos marcando o desmarcando la casilla correspondiente a cada paquete."
   ]
  },
  {
   "cell_type": "markdown",
   "metadata": {},
   "source": [
    "![fig-anaconda-navigator-2](images/Anaconda_Navigator_2.png)"
   ]
  },
  {
   "cell_type": "markdown",
   "metadata": {},
   "source": [
    "Podemos encontrar más información en la [documentación de Anaconda Navigator](https://docs.anaconda.com/anaconda/navigator/).\n",
    "\n",
    "Por tanto, podemos gestionar paquetes con Conda (abriendo un terminal en macOS y Linux, o Anaconda Prompt en Windows) o con Anaconda Navigator."
   ]
  }
 ],
 "metadata": {
  "kernelspec": {
   "display_name": "Python 3",
   "language": "python",
   "name": "python3"
  },
  "language_info": {
   "codemirror_mode": {
    "name": "ipython",
    "version": 3
   },
   "file_extension": ".py",
   "mimetype": "text/x-python",
   "name": "python",
   "nbconvert_exporter": "python",
   "pygments_lexer": "ipython3",
   "version": "3.7.5"
  }
 },
 "nbformat": 4,
 "nbformat_minor": 4
}
